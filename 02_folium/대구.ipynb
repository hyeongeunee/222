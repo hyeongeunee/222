{
 "cells": [
  {
   "cell_type": "code",
   "execution_count": 17,
   "id": "c931250d-2d67-4075-b342-ba60b9a89ac7",
   "metadata": {},
   "outputs": [],
   "source": [
    "# 지역별 수치데이터\n",
    "# 지역 선택\n",
    "# 특정 지역 동별로 값의 변화 나타낼 수 있게끔 ..\n",
    "\n",
    "# 1. 주민등록인구 및 세대현황 파일을 데이터프레임으로 가져오기\n",
    "import warnings\n",
    "warnings.filterwarnings('ignore')\n",
    "import pandas as pd"
   ]
  },
  {
   "cell_type": "code",
   "execution_count": 18,
   "id": "5a06d3de-223c-47c4-88d5-51c8409feb27",
   "metadata": {},
   "outputs": [
    {
     "data": {
      "text/html": [
       "<div>\n",
       "<style scoped>\n",
       "    .dataframe tbody tr th:only-of-type {\n",
       "        vertical-align: middle;\n",
       "    }\n",
       "\n",
       "    .dataframe tbody tr th {\n",
       "        vertical-align: top;\n",
       "    }\n",
       "\n",
       "    .dataframe thead th {\n",
       "        text-align: right;\n",
       "    }\n",
       "</style>\n",
       "<table border=\"1\" class=\"dataframe\">\n",
       "  <thead>\n",
       "    <tr style=\"text-align: right;\">\n",
       "      <th></th>\n",
       "      <th>행정구역</th>\n",
       "      <th>2022년08월_총인구수</th>\n",
       "      <th>2022년08월_세대수</th>\n",
       "      <th>2022년08월_세대당 인구</th>\n",
       "      <th>2022년08월_남자 인구수</th>\n",
       "      <th>2022년08월_여자 인구수</th>\n",
       "      <th>2022년08월_남여 비율</th>\n",
       "    </tr>\n",
       "  </thead>\n",
       "  <tbody>\n",
       "    <tr>\n",
       "      <th>0</th>\n",
       "      <td>서울특별시  (1100000000)</td>\n",
       "      <td>9,488,454</td>\n",
       "      <td>4,472,975</td>\n",
       "      <td>2.12</td>\n",
       "      <td>4,601,295</td>\n",
       "      <td>4,887,159</td>\n",
       "      <td>0.94</td>\n",
       "    </tr>\n",
       "    <tr>\n",
       "      <th>1</th>\n",
       "      <td>서울특별시 종로구 (1111000000)</td>\n",
       "      <td>143,499</td>\n",
       "      <td>73,866</td>\n",
       "      <td>1.94</td>\n",
       "      <td>69,408</td>\n",
       "      <td>74,091</td>\n",
       "      <td>0.94</td>\n",
       "    </tr>\n",
       "  </tbody>\n",
       "</table>\n",
       "</div>"
      ],
      "text/plain": [
       "                     행정구역 2022년08월_총인구수 2022년08월_세대수  2022년08월_세대당 인구  \\\n",
       "0     서울특별시  (1100000000)     9,488,454    4,472,975             2.12   \n",
       "1  서울특별시 종로구 (1111000000)       143,499       73,866             1.94   \n",
       "\n",
       "  2022년08월_남자 인구수 2022년08월_여자 인구수  2022년08월_남여 비율  \n",
       "0       4,601,295       4,887,159            0.94  \n",
       "1          69,408          74,091            0.94  "
      ]
     },
     "execution_count": 18,
     "metadata": {},
     "output_type": "execute_result"
    }
   ],
   "source": [
    "data = pd.read_csv('202208_202208_주민등록인구및세대현황_월간.csv', encoding='cp949')\n",
    "data.head(2)"
   ]
  },
  {
   "cell_type": "code",
   "execution_count": 19,
   "id": "f3be4700-b1fe-4f86-89ae-547147344a67",
   "metadata": {},
   "outputs": [
    {
     "data": {
      "text/plain": [
       "Index(['행정구역', '2022년08월_총인구수', '2022년08월_세대수', '2022년08월_세대당 인구',\n",
       "       '2022년08월_남자 인구수', '2022년08월_여자 인구수', '2022년08월_남여 비율'],\n",
       "      dtype='object')"
      ]
     },
     "execution_count": 19,
     "metadata": {},
     "output_type": "execute_result"
    }
   ],
   "source": [
    "data.columns"
   ]
  },
  {
   "cell_type": "code",
   "execution_count": 20,
   "id": "c388f5ae-ca7c-4dbe-9648-c17b358e3dec",
   "metadata": {},
   "outputs": [],
   "source": [
    "data.columns = ['행정구역', '총인구수', '세대수', '세대당인구', '남자', '여자', '남여비율']"
   ]
  },
  {
   "cell_type": "code",
   "execution_count": 21,
   "id": "0a2c2ace-f167-4c22-87ba-d53ef11257cf",
   "metadata": {},
   "outputs": [
    {
     "data": {
      "text/html": [
       "<div>\n",
       "<style scoped>\n",
       "    .dataframe tbody tr th:only-of-type {\n",
       "        vertical-align: middle;\n",
       "    }\n",
       "\n",
       "    .dataframe tbody tr th {\n",
       "        vertical-align: top;\n",
       "    }\n",
       "\n",
       "    .dataframe thead th {\n",
       "        text-align: right;\n",
       "    }\n",
       "</style>\n",
       "<table border=\"1\" class=\"dataframe\">\n",
       "  <thead>\n",
       "    <tr style=\"text-align: right;\">\n",
       "      <th></th>\n",
       "      <th>행정구역</th>\n",
       "      <th>총인구수</th>\n",
       "      <th>세대수</th>\n",
       "      <th>세대당인구</th>\n",
       "      <th>남자</th>\n",
       "      <th>여자</th>\n",
       "      <th>남여비율</th>\n",
       "    </tr>\n",
       "  </thead>\n",
       "  <tbody>\n",
       "    <tr>\n",
       "      <th>0</th>\n",
       "      <td>서울특별시  (1100000000)</td>\n",
       "      <td>9,488,454</td>\n",
       "      <td>4,472,975</td>\n",
       "      <td>2.12</td>\n",
       "      <td>4,601,295</td>\n",
       "      <td>4,887,159</td>\n",
       "      <td>0.94</td>\n",
       "    </tr>\n",
       "  </tbody>\n",
       "</table>\n",
       "</div>"
      ],
      "text/plain": [
       "                  행정구역       총인구수        세대수  세대당인구         남자         여자  \\\n",
       "0  서울특별시  (1100000000)  9,488,454  4,472,975   2.12  4,601,295  4,887,159   \n",
       "\n",
       "   남여비율  \n",
       "0  0.94  "
      ]
     },
     "execution_count": 21,
     "metadata": {},
     "output_type": "execute_result"
    }
   ],
   "source": [
    "data.head(1)"
   ]
  },
  {
   "cell_type": "code",
   "execution_count": null,
   "id": "dc251109-f988-41f5-a724-30a4dc8a29f6",
   "metadata": {},
   "outputs": [],
   "source": [
    "# 3. 남여비율 컬럼을 제거합니다"
   ]
  },
  {
   "cell_type": "code",
   "execution_count": 7,
   "id": "4de9706e-5a97-470d-b45c-804550cddbf0",
   "metadata": {},
   "outputs": [],
   "source": [
    "# 4. 행정구역 컬럼을 이용해서 시, 구, 동 컬럼을 만들어 분리해 넣고 \n",
    "#    개별 데이터만 남기고 대분류, 중분류에 해당하는 데이터는 삭제한다.\n",
    "#    부산 지역의 값만 가지고 "
   ]
  },
  {
   "cell_type": "code",
   "execution_count": null,
   "id": "7f4cafb1-5af2-4f7b-aef9-f3ff7cae0a2a",
   "metadata": {},
   "outputs": [],
   "source": []
  }
 ],
 "metadata": {
  "kernelspec": {
   "display_name": "Python 3 (ipykernel)",
   "language": "python",
   "name": "python3"
  },
  "language_info": {
   "codemirror_mode": {
    "name": "ipython",
    "version": 3
   },
   "file_extension": ".py",
   "mimetype": "text/x-python",
   "name": "python",
   "nbconvert_exporter": "python",
   "pygments_lexer": "ipython3",
   "version": "3.9.12"
  }
 },
 "nbformat": 4,
 "nbformat_minor": 5
}
