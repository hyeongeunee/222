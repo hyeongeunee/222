{
 "cells": [
  {
   "cell_type": "code",
   "execution_count": 1,
   "id": "4bcefcde-adfd-459b-b2ab-f93b00b6861f",
   "metadata": {},
   "outputs": [],
   "source": [
    "REST_API_KEY = '4c9793e62864da341917484c6cca7815'"
   ]
  },
  {
   "cell_type": "raw",
   "id": "8734a472-67ee-49bb-a445-22b8d229fe7d",
   "metadata": {},
   "source": [
    "curl -v -X GET \"https://dapi.kakao.com/v2/local/search/address.json\" \\\n",
    "  -H \"Authorization: KakaoAK ${REST_API_KEY}\" \\\n",
    "  --data-urlencode \"query=전북 삼성동 100\" "
   ]
  },
  {
   "cell_type": "code",
   "execution_count": 2,
   "id": "b78ffce8-7617-4e31-a8c8-22d6394f821a",
   "metadata": {},
   "outputs": [],
   "source": [
    "import requests"
   ]
  },
  {
   "cell_type": "code",
   "execution_count": 3,
   "id": "491fdc76-2128-4ebb-afd5-61856b8ba4e9",
   "metadata": {},
   "outputs": [
    {
     "data": {
      "text/plain": [
       "'https://dapi.kakao.com/v2/local/search/address.json?query=유성구 전민로 10'"
      ]
     },
     "execution_count": 3,
     "metadata": {},
     "output_type": "execute_result"
    }
   ],
   "source": [
    "url = 'https://dapi.kakao.com/v2/local/search/address.json?query={}'.format('유성구 전민로 10') #구주소/신주소 알려줌\n",
    "url"
   ]
  },
  {
   "cell_type": "code",
   "execution_count": 4,
   "id": "33748a10-d9c4-45d4-836f-eeb7346d8d41",
   "metadata": {},
   "outputs": [
    {
     "data": {
      "text/plain": [
       "{'documents': [{'address': {'address_name': '대전 유성구 전민동 448-10',\n",
       "    'b_code': '3020014100',\n",
       "    'h_code': '3020057000',\n",
       "    'main_address_no': '448',\n",
       "    'mountain_yn': 'N',\n",
       "    'region_1depth_name': '대전',\n",
       "    'region_2depth_name': '유성구',\n",
       "    'region_3depth_h_name': '전민동',\n",
       "    'region_3depth_name': '전민동',\n",
       "    'sub_address_no': '10',\n",
       "    'x': '127.403847673548',\n",
       "    'y': '36.396523096794'},\n",
       "   'address_name': '대전 유성구 전민로 10',\n",
       "   'address_type': 'ROAD_ADDR',\n",
       "   'road_address': {'address_name': '대전 유성구 전민로 10',\n",
       "    'building_name': '',\n",
       "    'main_building_no': '10',\n",
       "    'region_1depth_name': '대전',\n",
       "    'region_2depth_name': '유성구',\n",
       "    'region_3depth_name': '전민동',\n",
       "    'road_name': '전민로',\n",
       "    'sub_building_no': '',\n",
       "    'underground_yn': 'N',\n",
       "    'x': '127.403847673548',\n",
       "    'y': '36.396523096794',\n",
       "    'zone_no': '34052'},\n",
       "   'x': '127.403847673548',\n",
       "   'y': '36.396523096794'}],\n",
       " 'meta': {'is_end': True, 'pageable_count': 1, 'total_count': 1}}"
      ]
     },
     "execution_count": 4,
     "metadata": {},
     "output_type": "execute_result"
    }
   ],
   "source": [
    "headers = {'Authorization': f'KakaoAK {REST_API_KEY}'} #f 포맷팅 > 앞쪽에 선언한 변수값을 그대로 쓰고 싶을 때 사용 \n",
    "r = requests.get(url, headers=headers)\n",
    "r.json()"
   ]
  },
  {
   "cell_type": "raw",
   "id": "2817ee29-cbe4-49a9-9977-b16d0b363163",
   "metadata": {},
   "source": [
    "curl -v -X GET \"https://dapi.kakao.com/v2/local/search/keyword.json?y=37.514322572335935&x=127.06283102249932&radius=20000\" \\\n",
    "  -H \"Authorization: KakaoAK ${REST_API_KEY}\" \\\n",
    "  --data-urlencode \"query=카카오프렌즈\" \n",
    "  \n",
    "  PO3"
   ]
  },
  {
   "cell_type": "code",
   "execution_count": 5,
   "id": "77ace6a4-3432-4e7e-ab00-a59f61bc8686",
   "metadata": {},
   "outputs": [
    {
     "data": {
      "text/plain": [
       "'https://dapi.kakao.com/v2/local/search/keyword.json?query=편의점'"
      ]
     },
     "execution_count": 5,
     "metadata": {},
     "output_type": "execute_result"
    }
   ],
   "source": [
    "url = 'https://dapi.kakao.com/v2/local/search/keyword.json?query={}'.format('편의점')\n",
    "url"
   ]
  },
  {
   "cell_type": "code",
   "execution_count": 6,
   "id": "1b6f8656-ba75-487d-862f-62a822db885a",
   "metadata": {
    "collapsed": true,
    "jupyter": {
     "outputs_hidden": true
    },
    "tags": []
   },
   "outputs": [
    {
     "data": {
      "text/plain": [
       "{'documents': [{'address_name': '서울 서초구 잠원동 122-1',\n",
       "   'category_group_code': 'CS2',\n",
       "   'category_group_name': '편의점',\n",
       "   'category_name': '가정,생활 > 편의점 > GS25',\n",
       "   'distance': '',\n",
       "   'id': '351835842',\n",
       "   'phone': '',\n",
       "   'place_name': 'GS25 한강반포1호점',\n",
       "   'place_url': 'http://place.map.kakao.com/351835842',\n",
       "   'road_address_name': '',\n",
       "   'x': '127.00229384950465',\n",
       "   'y': '37.51281205930782'},\n",
       "  {'address_name': '서울 서초구 반포동 115-5',\n",
       "   'category_group_code': 'CS2',\n",
       "   'category_group_name': '편의점',\n",
       "   'category_name': '가정,생활 > 편의점 > GS25',\n",
       "   'distance': '',\n",
       "   'id': '468898846',\n",
       "   'phone': '02-595-8287',\n",
       "   'place_name': 'GS25 한강반포2호점',\n",
       "   'place_url': 'http://place.map.kakao.com/468898846',\n",
       "   'road_address_name': '',\n",
       "   'x': '126.994117532827',\n",
       "   'y': '37.50861595721115'},\n",
       "  {'address_name': '서울 강남구 삼성동 143-28',\n",
       "   'category_group_code': 'CS2',\n",
       "   'category_group_name': '편의점',\n",
       "   'category_name': '가정,생활 > 편의점 > GS25',\n",
       "   'distance': '',\n",
       "   'id': '8000742',\n",
       "   'phone': '02-557-2535',\n",
       "   'place_name': 'GS25 강남동원점',\n",
       "   'place_url': 'http://place.map.kakao.com/8000742',\n",
       "   'road_address_name': '서울 강남구 테헤란로77길 7',\n",
       "   'x': '127.054563985628',\n",
       "   'y': '37.5069132164195'},\n",
       "  {'address_name': '서울 종로구 화동 61',\n",
       "   'category_group_code': 'CS2',\n",
       "   'category_group_name': '편의점',\n",
       "   'category_name': '가정,생활 > 편의점 > 이마트24',\n",
       "   'distance': '',\n",
       "   'id': '1249602349',\n",
       "   'phone': '070-7700-2750',\n",
       "   'place_name': '이마트24 삼청동점',\n",
       "   'place_url': 'http://place.map.kakao.com/1249602349',\n",
       "   'road_address_name': '서울 종로구 삼청로 68',\n",
       "   'x': '126.981387782092',\n",
       "   'y': '37.5816460293998'},\n",
       "  {'address_name': '서울 용산구 동자동 43-120',\n",
       "   'category_group_code': 'CS2',\n",
       "   'category_group_name': '편의점',\n",
       "   'category_name': '가정,생활 > 편의점 > GS25',\n",
       "   'distance': '',\n",
       "   'id': '21544343',\n",
       "   'phone': '',\n",
       "   'place_name': 'GS25 서울역점',\n",
       "   'place_url': 'http://place.map.kakao.com/21544343',\n",
       "   'road_address_name': '서울 용산구 한강대로 401',\n",
       "   'x': '126.97233189463573',\n",
       "   'y': '37.554048557232754'},\n",
       "  {'address_name': '경기 남양주시 금곡동 416-1',\n",
       "   'category_group_code': 'CS2',\n",
       "   'category_group_name': '편의점',\n",
       "   'category_name': '가정,생활 > 편의점 > GS25',\n",
       "   'distance': '',\n",
       "   'id': '12297654',\n",
       "   'phone': '031-594-2323',\n",
       "   'place_name': 'GS25 남양주금곡점',\n",
       "   'place_url': 'http://place.map.kakao.com/12297654',\n",
       "   'road_address_name': '경기 남양주시 사릉로 14',\n",
       "   'x': '127.207556716267',\n",
       "   'y': '37.634234094536'},\n",
       "  {'address_name': '서울 노원구 상계동 666-3',\n",
       "   'category_group_code': 'CS2',\n",
       "   'category_group_name': '편의점',\n",
       "   'category_name': '가정,생활 > 편의점',\n",
       "   'distance': '',\n",
       "   'id': '1582386948',\n",
       "   'phone': '02-951-6465',\n",
       "   'place_name': '스파편의점',\n",
       "   'place_url': 'http://place.map.kakao.com/1582386948',\n",
       "   'road_address_name': '서울 노원구 동일로 1493',\n",
       "   'x': '127.057997596399',\n",
       "   'y': '37.6614661394716'},\n",
       "  {'address_name': '서울 강남구 역삼동 678-19',\n",
       "   'category_group_code': 'CS2',\n",
       "   'category_group_name': '편의점',\n",
       "   'category_name': '가정,생활 > 편의점 > GS25',\n",
       "   'distance': '',\n",
       "   'id': '26820270',\n",
       "   'phone': '02-561-8786',\n",
       "   'place_name': 'GS25 역삼본점',\n",
       "   'place_url': 'http://place.map.kakao.com/26820270',\n",
       "   'road_address_name': '서울 강남구 테헤란로29길 10',\n",
       "   'x': '127.038867839492',\n",
       "   'y': '37.5023134844679'},\n",
       "  {'address_name': '강원 강릉시 옥계면 금진리 1-4',\n",
       "   'category_group_code': 'CS2',\n",
       "   'category_group_name': '편의점',\n",
       "   'category_name': '가정,생활 > 편의점 > 세븐일레븐',\n",
       "   'distance': '',\n",
       "   'id': '403860571',\n",
       "   'phone': '',\n",
       "   'place_name': '세븐일레븐 강릉호텔탑스텐점',\n",
       "   'place_url': 'http://place.map.kakao.com/403860571',\n",
       "   'road_address_name': '강원 강릉시 옥계면 헌화로 455-34',\n",
       "   'x': '129.05309349254364',\n",
       "   'y': '37.65504233892559'},\n",
       "  {'address_name': '경북 경주시 북군동 30-5',\n",
       "   'category_group_code': 'CS2',\n",
       "   'category_group_name': '편의점',\n",
       "   'category_name': '가정,생활 > 편의점 > GS25',\n",
       "   'distance': '',\n",
       "   'id': '1068876751',\n",
       "   'phone': '1644-5425',\n",
       "   'place_name': 'GS25 한화리조트경주에톤점',\n",
       "   'place_url': 'http://place.map.kakao.com/1068876751',\n",
       "   'road_address_name': '경북 경주시 보문로 182-27',\n",
       "   'x': '129.2701464996853',\n",
       "   'y': '35.86082253267087'},\n",
       "  {'address_name': '서울 영등포구 여의도동 84-4',\n",
       "   'category_group_code': 'CS2',\n",
       "   'category_group_name': '편의점',\n",
       "   'category_name': '가정,생활 > 편의점 > CU',\n",
       "   'distance': '',\n",
       "   'id': '1509592977',\n",
       "   'phone': '02-780-8150',\n",
       "   'place_name': 'CU 한강여의도2호점',\n",
       "   'place_url': 'http://place.map.kakao.com/1509592977',\n",
       "   'road_address_name': '',\n",
       "   'x': '126.93162971248834',\n",
       "   'y': '37.52818863059259'},\n",
       "  {'address_name': '강원 양양군 강현면 전진리 66-8',\n",
       "   'category_group_code': 'CS2',\n",
       "   'category_group_name': '편의점',\n",
       "   'category_name': '가정,생활 > 편의점 > CU',\n",
       "   'distance': '',\n",
       "   'id': '95545959',\n",
       "   'phone': '',\n",
       "   'place_name': 'CU 설악해수욕장점',\n",
       "   'place_url': 'http://place.map.kakao.com/95545959',\n",
       "   'road_address_name': '강원 양양군 강현면 뒷나루2길 5-4',\n",
       "   'x': '128.622941497739',\n",
       "   'y': '38.129334542789'},\n",
       "  {'address_name': '서울 중구 을지로1가 192-11',\n",
       "   'category_group_code': 'CS2',\n",
       "   'category_group_name': '편의점',\n",
       "   'category_name': '가정,생활 > 편의점 > CU',\n",
       "   'distance': '',\n",
       "   'id': '9629618',\n",
       "   'phone': '02-774-0167',\n",
       "   'place_name': 'CU 시청광장점',\n",
       "   'place_url': 'http://place.map.kakao.com/9629618',\n",
       "   'road_address_name': '서울 중구 을지로 6',\n",
       "   'x': '126.979069212019',\n",
       "   'y': '37.565352049866'},\n",
       "  {'address_name': '서울 강남구 청담동 89-20',\n",
       "   'category_group_code': 'CS2',\n",
       "   'category_group_name': '편의점',\n",
       "   'category_name': '가정,생활 > 편의점 > 이마트24',\n",
       "   'distance': '',\n",
       "   'id': '597839579',\n",
       "   'phone': '070-7707-0276',\n",
       "   'place_name': '이마트24 청담본점',\n",
       "   'place_url': 'http://place.map.kakao.com/597839579',\n",
       "   'road_address_name': '서울 강남구 도산대로57길 22',\n",
       "   'x': '127.04173497038',\n",
       "   'y': '37.5250538465442'},\n",
       "  {'address_name': '서울 영등포구 여의도동 86-5',\n",
       "   'category_group_code': 'CS2',\n",
       "   'category_group_name': '편의점',\n",
       "   'category_name': '가정,생활 > 편의점 > CU',\n",
       "   'distance': '',\n",
       "   'id': '1497705932',\n",
       "   'phone': '',\n",
       "   'place_name': 'CU 한강여의도1호점',\n",
       "   'place_url': 'http://place.map.kakao.com/1497705932',\n",
       "   'road_address_name': '',\n",
       "   'x': '126.93998744718635',\n",
       "   'y': '37.52312413556705'}],\n",
       " 'meta': {'is_end': False,\n",
       "  'pageable_count': 45,\n",
       "  'same_name': {'keyword': '편의점', 'region': [], 'selected_region': ''},\n",
       "  'total_count': 56196}}"
      ]
     },
     "execution_count": 6,
     "metadata": {},
     "output_type": "execute_result"
    }
   ],
   "source": [
    "headers = {'Authorization': f'KakaoAK {REST_API_KEY}'} \n",
    "r = requests.get(url, headers=headers)\n",
    "r.json()"
   ]
  },
  {
   "cell_type": "code",
   "execution_count": 16,
   "id": "c1eef0c1-c6f6-4aae-9d83-8cfcd188569e",
   "metadata": {
    "tags": []
   },
   "outputs": [
    {
     "ename": "SyntaxError",
     "evalue": "invalid syntax (3978032008.py, line 6)",
     "output_type": "error",
     "traceback": [
      "\u001b[1;36m  Input \u001b[1;32mIn [16]\u001b[1;36m\u001b[0m\n\u001b[1;33m    url = https://dapi.kakao.com/v2/local/search/keyword.json?y={y}&x&radius={radius}&query={query}\"\u001b[0m\n\u001b[1;37m               ^\u001b[0m\n\u001b[1;31mSyntaxError\u001b[0m\u001b[1;31m:\u001b[0m invalid syntax\n"
     ]
    }
   ],
   "source": [
    "x=1237.06283102249932\n",
    "y=37.514322572335935\n",
    "radius=20000\n",
    "query='카카오프렌즈'\n",
    "# category_group_code='PO3'\n",
    "url = https://dapi.kakao.com/v2/local/search/keyword.json?y={y}&x&radius={radius}&query={query}\"\n",
    "r = requests.get(url, headers=headers)\n",
    "r.json()"
   ]
  },
  {
   "cell_type": "code",
   "execution_count": null,
   "id": "0c571ea2-5885-446e-955e-82c4e3482e34",
   "metadata": {},
   "outputs": [],
   "source": []
  }
 ],
 "metadata": {
  "kernelspec": {
   "display_name": "Python 3 (ipykernel)",
   "language": "python",
   "name": "python3"
  },
  "language_info": {
   "codemirror_mode": {
    "name": "ipython",
    "version": 3
   },
   "file_extension": ".py",
   "mimetype": "text/x-python",
   "name": "python",
   "nbconvert_exporter": "python",
   "pygments_lexer": "ipython3",
   "version": "3.9.12"
  },
  "toc-autonumbering": true
 },
 "nbformat": 4,
 "nbformat_minor": 5
}
