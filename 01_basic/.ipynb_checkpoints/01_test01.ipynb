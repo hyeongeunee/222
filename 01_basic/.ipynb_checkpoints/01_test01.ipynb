{
 "cells": [
  {
   "cell_type": "markdown",
   "id": "43dad5bf-2918-4f7e-8052-e35fd0d25899",
   "metadata": {},
   "source": [
    "# 마크다운 설명"
   ]
  },
  {
   "cell_type": "markdown",
   "id": "86e2bf2e-e44b-40d3-95f3-da20f5c92e59",
   "metadata": {},
   "source": [
    "!.[Kayak].[logo](http://www.tcpschool.com/lectures/img_deeplearning_09_ann.png)\n",
    "\n",
    "```python\n",
    "s = \"Python syntax highlight\"\n",
    "print s\n",
    "```\n",
    "\n",
    "한글작업을 합니다.  \n",
    "한글작업을 합니다."
   ]
  },
  {
   "cell_type": "code",
   "execution_count": null,
   "id": "06d9c9eb-b568-4977-aca0-bf6f366b64b2",
   "metadata": {},
   "outputs": [],
   "source": []
  },
  {
   "cell_type": "markdown",
   "id": "df26ebc3-bae9-42b0-96e7-e8da3d66a836",
   "metadata": {},
   "source": [
    "1. 마크다운 기호\n",
    "- #\n",
    "- !"
   ]
  },
  {
   "cell_type": "code",
   "execution_count": null,
   "id": "0192a161-fe0b-4cc5-ac4f-80485b26eec0",
   "metadata": {},
   "outputs": [],
   "source": [
    "print('hi)\n",
    "print('hello')"
   ]
  },
  {
   "cell_type": "code",
   "execution_count": null,
   "id": "3585aa0a-fc70-4225-a22c-04ababed076a",
   "metadata": {},
   "outputs": [],
   "source": [
    "print('hi)\n",
    "print('hello')"
   ]
  }
 ],
 "metadata": {
  "kernelspec": {
   "display_name": "Python 3 (ipykernel)",
   "language": "python",
   "name": "python3"
  },
  "language_info": {
   "codemirror_mode": {
    "name": "ipython",
    "version": 3
   },
   "file_extension": ".py",
   "mimetype": "text/x-python",
   "name": "python",
   "nbconvert_exporter": "python",
   "pygments_lexer": "ipython3",
   "version": "3.9.12"
  }
 },
 "nbformat": 4,
 "nbformat_minor": 5
}
