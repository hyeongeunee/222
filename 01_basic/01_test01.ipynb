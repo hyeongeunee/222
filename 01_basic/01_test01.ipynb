{
 "cells": [
  {
   "cell_type": "markdown",
   "id": "43dad5bf-2918-4f7e-8052-e35fd0d25899",
   "metadata": {},
   "source": [
    "# 마크다운 설명"
   ]
  },
  {
   "cell_type": "markdown",
   "id": "86e2bf2e-e44b-40d3-95f3-da20f5c92e59",
   "metadata": {},
   "source": [
    "!.[Kayak].[logo](http://www.tcpschool.com/lectures/img_deeplearning_09_ann.png)\n",
    "\n",
    "```python\n",
    "s = \"Python syntax highlight\"\n",
    "print s\n",
    "```\n",
    "\n",
    "한글작업을 합니다.  \n",
    "한글작업을 합니다."
   ]
  },
  {
   "cell_type": "code",
   "execution_count": null,
   "id": "06d9c9eb-b568-4977-aca0-bf6f366b64b2",
   "metadata": {},
   "outputs": [],
   "source": []
  },
  {
   "cell_type": "markdown",
   "id": "df26ebc3-bae9-42b0-96e7-e8da3d66a836",
   "metadata": {},
   "source": [
    "1. 마크다운 기호\n",
    "- #\n",
    "- !"
   ]
  },
  {
   "cell_type": "code",
   "execution_count": null,
   "id": "0192a161-fe0b-4cc5-ac4f-80485b26eec0",
   "metadata": {},
   "outputs": [],
   "source": [
    "print('hi)\n",
    "print('hello')"
   ]
  },
  {
   "cell_type": "code",
   "execution_count": null,
   "id": "3585aa0a-fc70-4225-a22c-04ababed076a",
   "metadata": {},
   "outputs": [],
   "source": [
    "print('hi)\n",
    "print('hello')"
   ]
  },
  {
   "cell_type": "code",
   "execution_count": 6,
   "id": "67254b30-eedf-4eb6-8fdf-c18eb6524d4e",
   "metadata": {},
   "outputs": [
    {
     "name": "stdin",
     "output_type": "stream",
     "text": [
      "\n",
      "    다음 중에서 하실 일을 골라주세요 :\n",
      "    I - 고객 정보 입력\n",
      "    C - 현재 고객 정보 조회\n",
      "    P - 이전 고객 정보 조회\n",
      "    N - 다음 고객 정보 조회\n",
      "    U - 고객 정보 수정\n",
      "    D - 고객 정보 삭제\n",
      "    Q - 프로그램 종료\n",
      "     I\n",
      "이름을 입력하세요 >>>  황현근\n",
      "성별 입력(M,F) >>>  m\n",
      "이메일을 입력 >>>  t1@fdssdf.co\n"
     ]
    },
    {
     "name": "stdout",
     "output_type": "stream",
     "text": [
      "이메일을 형식에 맞춰서 넣어주세요.\n"
     ]
    },
    {
     "name": "stdin",
     "output_type": "stream",
     "text": [
      "이메일을 입력 >>>  512fs@gsafdkl.co\n"
     ]
    },
    {
     "name": "stdout",
     "output_type": "stream",
     "text": [
      "이메일을 형식에 맞춰서 넣어주세요.\n"
     ]
    },
    {
     "name": "stdin",
     "output_type": "stream",
     "text": [
      "이메일을 입력 >>>  rwqwerr@gasdi.k\n"
     ]
    },
    {
     "name": "stdout",
     "output_type": "stream",
     "text": [
      "이메일을 형식에 맞춰서 넣어주세요.\n"
     ]
    },
    {
     "name": "stdin",
     "output_type": "stream",
     "text": [
      "이메일을 입력 >>>  dasasdasd@123.asd\n"
     ]
    },
    {
     "name": "stdout",
     "output_type": "stream",
     "text": [
      "이메일을 형식에 맞춰서 넣어주세요.\n"
     ]
    },
    {
     "name": "stdin",
     "output_type": "stream",
     "text": [
      "이메일을 입력 >>>  fsddsfsdf@gfgf.sf\n",
      "\n",
      "    다음 중에서 하실 일을 골라주세요 :\n",
      "    I - 고객 정보 입력\n",
      "    C - 현재 고객 정보 조회\n",
      "    P - 이전 고객 정보 조회\n",
      "    N - 다음 고객 정보 조회\n",
      "    U - 고객 정보 수정\n",
      "    D - 고객 정보 삭제\n",
      "    Q - 프로그램 종료\n",
      "     q\n"
     ]
    }
   ],
   "source": [
    "import re\n",
    "from tabnanny import check\n",
    "custlist=[]\n",
    "page=-1\n",
    " \n",
    "while True:\n",
    "    choice=input('''\n",
    "    다음 중에서 하실 일을 골라주세요 :\n",
    "    I - 고객 정보 입력\n",
    "    C - 현재 고객 정보 조회\n",
    "    P - 이전 고객 정보 조회\n",
    "    N - 다음 고객 정보 조회\n",
    "    U - 고객 정보 수정\n",
    "    D - 고객 정보 삭제\n",
    "    Q - 프로그램 종료\n",
    "    ''').upper()  \n",
    "\n",
    "    if choice==\"I\":  \n",
    "        customer={'name':'', 'gender':'', 'email':'', 'birthday':''}\n",
    "        customer['name']=input('이름을 입력하세요 >>> ').strip()\n",
    "        while True:\n",
    "            customer['gender']=input('성별 입력(M,F) >>> ').upper()\n",
    "            if customer['gender'] in ('M','F'):\n",
    "                break\n",
    "        while True:\n",
    "            regex = re.compile('[a-z][a-z0-9_]{4,}@[a-z]{2,}[.][a-z]{2,}')\n",
    "            while True:\n",
    "                customer['email'] = input('이메일을 입력 >>> ')\n",
    "                result = regex.match(customer['email']) \n",
    "                if result:\n",
    "                    break\n",
    "                else:\n",
    "                    print('이메일을 형식에 맞춰서 넣어주세요.')\n",
    "            check = 0\n",
    "            for i in custlist:\n",
    "                if i ['email'] == customer['email']:\n",
    "                    check = 1\n",
    "                    break\n",
    "            if check == 0:\n",
    "                break\n",
    "            print('중복되는 이메일이 있습니다.')           \n",
    "            \n",
    "                           \n",
    "    elif choice==\"C\": \n",
    "        pass\n",
    "    elif choice == 'P':\n",
    "        pass\n",
    "    elif choice == 'N':\n",
    "        pass\n",
    "    elif choice=='D':\n",
    "        pass\n",
    "    elif choice==\"U\": \n",
    "        pass\n",
    "    elif choice==\"Q\":\n",
    "        break\n",
    "    else:\n",
    "        print('메뉴 입력이 잘못되었습니다. 다시 입력해 주세요.')"
   ]
  },
  {
   "cell_type": "code",
   "execution_count": null,
   "id": "1539fc11-9e9b-4df7-934d-fbac4b488315",
   "metadata": {},
   "outputs": [],
   "source": []
  }
 ],
 "metadata": {
  "kernelspec": {
   "display_name": "Python 3 (ipykernel)",
   "language": "python",
   "name": "python3"
  },
  "language_info": {
   "codemirror_mode": {
    "name": "ipython",
    "version": 3
   },
   "file_extension": ".py",
   "mimetype": "text/x-python",
   "name": "python",
   "nbconvert_exporter": "python",
   "pygments_lexer": "ipython3",
   "version": "3.9.12"
  }
 },
 "nbformat": 4,
 "nbformat_minor": 5
}
