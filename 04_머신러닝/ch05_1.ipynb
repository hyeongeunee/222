{
 "cells": [
  {
   "cell_type": "code",
   "execution_count": 252,
   "id": "080e01e2-8353-497e-bf86-ddf4e2efeedf",
   "metadata": {},
   "outputs": [],
   "source": [
    "import numpy as np\n",
    "import matplotlib.pyplot as plt\n",
    "np.random.seed(0)"
   ]
  },
  {
   "cell_type": "code",
   "execution_count": 253,
   "id": "fdf0e5e0-c3d4-432c-bb43-b93973b440e4",
   "metadata": {},
   "outputs": [],
   "source": [
    "# y = 4x+6 #정답 >> 답을 찾아가는지 찾으려고..\n",
    "X = 2 * np.random.rand(100,1) #100행에 1열 (한 행에 하나씩이니까)\n",
    "y = 6 + 4 * X + np.random.randn(100,1) #np ~~ 는 노이즈.."
   ]
  },
  {
   "cell_type": "code",
   "execution_count": 254,
   "id": "6e08e705-84f1-4b27-9d45-e5e28fbc6a6a",
   "metadata": {},
   "outputs": [
    {
     "data": {
      "text/plain": [
       "array([[1.09762701],\n",
       "       [1.43037873]])"
      ]
     },
     "execution_count": 254,
     "metadata": {},
     "output_type": "execute_result"
    }
   ],
   "source": [
    "X[:2]"
   ]
  },
  {
   "cell_type": "code",
   "execution_count": 255,
   "id": "29076b8a-2189-42df-82c6-c6ef7e1b2f28",
   "metadata": {},
   "outputs": [
    {
     "data": {
      "text/plain": [
       "array([[ 9.22535819],\n",
       "       [12.62234142]])"
      ]
     },
     "execution_count": 255,
     "metadata": {},
     "output_type": "execute_result"
    }
   ],
   "source": [
    "y[:2]"
   ]
  },
  {
   "cell_type": "code",
   "execution_count": 256,
   "id": "ff855941-e04c-4ced-a2d6-f01e8a0da8b1",
   "metadata": {},
   "outputs": [
    {
     "data": {
      "text/plain": [
       "<matplotlib.collections.PathCollection at 0x1145b2188b0>"
      ]
     },
     "execution_count": 256,
     "metadata": {},
     "output_type": "execute_result"
    },
    {
     "data": {
      "image/png": "[encoded data removed]",
      "text/plain": [
       "<Figure size 432x288 with 1 Axes>"
      ]
     },
     "metadata": {
      "needs_background": "light"
     },
     "output_type": "display_data"
    }
   ],
   "source": [
    "plt.scatter(X, y)"
   ]
  },
  {
   "cell_type": "code",
   "execution_count": 257,
   "id": "446d15e4-2979-466b-9617-fe148bda257b",
   "metadata": {},
   "outputs": [],
   "source": [
    "#비용함수 : 실제값 예측값 차이 계산하는 함수\n",
    "def get_cost(y,y_pred):\n",
    "    N = len(y)\n",
    "    cost = np.sum(np.square(y-y_pred))/N\n",
    "    return cost"
   ]
  },
  {
   "cell_type": "code",
   "execution_count": 251,
   "id": "e0a4b705-f4a2-415d-92c6-b51c0440753d",
   "metadata": {},
   "outputs": [],
   "source": [
    "def get_weight_update(w1,w0,X,y,learning_rate=0.01):\n",
    "    N = len(y)\n",
    "    w1_update = np.zeros_like(w1)\n",
    "    w0_update = np.zeros_like(w0)\n",
    "    y_pred = np.dot(X,w1.T) + w0 #T : 행렬바꾸는거.. \n",
    "    diff = y-y_pred #y(정답) - y~(예측) = 차이\n",
    "    w0_factors = np.ones((N, 1))\n",
    "    \n",
    "    w1_update = -(2/N)*learning_rate*(np.dot(X.T, diff))\n",
    "    w0_update = -(2/N)*learning_rate*(np.dot(w0_factors.T, diff))\n",
    "    return w1_update, w0_update"
   ]
  },
  {
   "cell_type": "code",
   "execution_count": 222,
   "id": "52be13a9-dc4e-485c-a351-b774baed194a",
   "metadata": {},
   "outputs": [],
   "source": [
    "def gradient_descent_steps(X, y, iters=10000):\n",
    "    w0 = np.zeros((1,1))\n",
    "    w1 = np.zeros((1,1))\n",
    "    \n",
    "    for i in range(iters):\n",
    "        w1_update, w0_update = get_weight_update(w1, w0, X, y, learning_rate=0.01)\n",
    "        w1 = w1 - w1_update # -하는이유 : 양의 값 나오면 빼기, 음의 값 나오면 더하기되서..\n",
    "        w0 = w0 - w0_update\n",
    "        \n",
    "    return w1, w0"
   ]
  },
  {
   "cell_type": "code",
   "execution_count": 223,
   "id": "86f39a45-7741-409a-ba07-8dd1316e6803",
   "metadata": {
    "tags": []
   },
   "outputs": [
    {
     "name": "stdout",
     "output_type": "stream",
     "text": [
      "[[3.91347883]] [[5.97387348]]\n"
     ]
    }
   ],
   "source": [
    "w1, w0 = gradient_descent_steps(X, y, iters=1000)\n",
    "print(w1, w0)"
   ]
  },
  {
   "cell_type": "code",
   "execution_count": 224,
   "id": "f13f570c-5ea9-4475-b103-417336704227",
   "metadata": {
    "tags": []
   },
   "outputs": [],
   "source": [
    "pred = X*w1[0,0]+w0"
   ]
  },
  {
   "cell_type": "code",
   "execution_count": 225,
   "id": "7b68101a-6ac8-4c73-8ecf-beef8ba2e800",
   "metadata": {},
   "outputs": [
    {
     "data": {
      "text/plain": [
       "array([[11.17248517],\n",
       "       [12.00382835]])"
      ]
     },
     "execution_count": 225,
     "metadata": {},
     "output_type": "execute_result"
    }
   ],
   "source": [
    "pred[:2]"
   ]
  },
  {
   "cell_type": "code",
   "execution_count": 48,
   "id": "2fd3346d-bb32-4f4e-80e7-6756eb38193a",
   "metadata": {},
   "outputs": [
    {
     "data": {
      "text/plain": [
       "array([[ 9.22535819],\n",
       "       [12.62234142]])"
      ]
     },
     "execution_count": 48,
     "metadata": {},
     "output_type": "execute_result"
    }
   ],
   "source": [
    "y[:2]"
   ]
  },
  {
   "cell_type": "code",
   "execution_count": 49,
   "id": "8abec8d7-9ed4-4fd6-a33e-8c3a9c6d05c0",
   "metadata": {},
   "outputs": [],
   "source": [
    "# 321p. 바이어스 = 인터셉트  . coef_ = 회귀계수\n"
   ]
  }
 ],
 "metadata": {
  "kernelspec": {
   "display_name": "Python 3 (ipykernel)",
   "language": "python",
   "name": "python3"
  },
  "language_info": {
   "codemirror_mode": {
    "name": "ipython",
    "version": 3
   },
   "file_extension": ".py",
   "mimetype": "text/x-python",
   "name": "python",
   "nbconvert_exporter": "python",
   "pygments_lexer": "ipython3",
   "version": "3.9.12"
  }
 },
 "nbformat": 4,
 "nbformat_minor": 5
}
