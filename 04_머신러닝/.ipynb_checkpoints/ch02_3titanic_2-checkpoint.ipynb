{
 "cells": [
  {
   "cell_type": "code",
   "execution_count": 1,
   "id": "bcc5cb42-81d0-45b0-a76d-642f87ac6ec2",
   "metadata": {},
   "outputs": [],
   "source": [
    "def fillna(df):\n",
    "    df['Age'].fillna(df['Age'].mean(), inplace=True)\n",
    "    df['Cabin'].fillna('N', inplace=True)\n",
    "    df['Embarked'].fillna('N', inplace=True)\n",
    "    df['Fare'].fillna(0, inplace=True)\n",
    "    return df\n",
    "def drop_features(df):\n",
    "    df.drop(columns=['PassengerId', 'Name', 'Ticket'], inplace=True)\n",
    "    return df\n",
    "def format_features(df):\n",
    "    from sklearn.preprocessing import LabelEncoder\n",
    "    df['Cabin'] = df['Cabin'].str[0]\n",
    "    features = ['Cabin', 'Sex', 'Embarked']\n",
    "    for feature in features:\n",
    "        le = LabelEncoder() \n",
    "        df[feature] = le.fit_transform(df[feature])\n",
    "        print(le.classes_)\n",
    "    return df\n",
    "def transform_features():\n",
    "    import pandas as pd\n",
    "    df = pd.read_csv('titanic_train.csv')\n",
    "    df = fillna(df) \n",
    "    df = drop_features(df)\n",
    "    df = format_features(df)\n",
    "    return df"
   ]
  },
  {
   "cell_type": "code",
   "execution_count": 2,
   "id": "2dc858ec-dd95-4f6a-983a-fb1c7382efc6",
   "metadata": {},
   "outputs": [
    {
     "name": "stdout",
     "output_type": "stream",
     "text": [
      "['A' 'B' 'C' 'D' 'E' 'F' 'G' 'N' 'T']\n",
      "['female' 'male']\n",
      "['C' 'N' 'Q' 'S']\n"
     ]
    }
   ],
   "source": [
    "titanic_df = transform_features()"
   ]
  },
  {
   "cell_type": "code",
   "execution_count": 3,
   "id": "252efc9f-e23f-4c28-a0de-f0aa16c73178",
   "metadata": {},
   "outputs": [
    {
     "data": {
      "text/html": [
       "<div>\n",
       "<style scoped>\n",
       "    .dataframe tbody tr th:only-of-type {\n",
       "        vertical-align: middle;\n",
       "    }\n",
       "\n",
       "    .dataframe tbody tr th {\n",
       "        vertical-align: top;\n",
       "    }\n",
       "\n",
       "    .dataframe thead th {\n",
       "        text-align: right;\n",
       "    }\n",
       "</style>\n",
       "<table border=\"1\" class=\"dataframe\">\n",
       "  <thead>\n",
       "    <tr style=\"text-align: right;\">\n",
       "      <th></th>\n",
       "      <th>Survived</th>\n",
       "      <th>Pclass</th>\n",
       "      <th>Sex</th>\n",
       "      <th>Age</th>\n",
       "      <th>SibSp</th>\n",
       "      <th>Parch</th>\n",
       "      <th>Fare</th>\n",
       "      <th>Cabin</th>\n",
       "      <th>Embarked</th>\n",
       "    </tr>\n",
       "  </thead>\n",
       "  <tbody>\n",
       "    <tr>\n",
       "      <th>0</th>\n",
       "      <td>0</td>\n",
       "      <td>3</td>\n",
       "      <td>1</td>\n",
       "      <td>22.0</td>\n",
       "      <td>1</td>\n",
       "      <td>0</td>\n",
       "      <td>7.2500</td>\n",
       "      <td>7</td>\n",
       "      <td>3</td>\n",
       "    </tr>\n",
       "    <tr>\n",
       "      <th>1</th>\n",
       "      <td>1</td>\n",
       "      <td>1</td>\n",
       "      <td>0</td>\n",
       "      <td>38.0</td>\n",
       "      <td>1</td>\n",
       "      <td>0</td>\n",
       "      <td>71.2833</td>\n",
       "      <td>2</td>\n",
       "      <td>0</td>\n",
       "    </tr>\n",
       "  </tbody>\n",
       "</table>\n",
       "</div>"
      ],
      "text/plain": [
       "   Survived  Pclass  Sex   Age  SibSp  Parch     Fare  Cabin  Embarked\n",
       "0         0       3    1  22.0      1      0   7.2500      7         3\n",
       "1         1       1    0  38.0      1      0  71.2833      2         0"
      ]
     },
     "execution_count": 3,
     "metadata": {},
     "output_type": "execute_result"
    }
   ],
   "source": [
    "titanic_df.head(2)"
   ]
  },
  {
   "cell_type": "code",
   "execution_count": 4,
   "id": "52c2ea4d-ca4a-477c-8c09-eacecd671128",
   "metadata": {},
   "outputs": [],
   "source": [
    "from sklearn.model_selection import train_test_split"
   ]
  },
  {
   "cell_type": "code",
   "execution_count": 5,
   "id": "39c736ac-c019-4f5e-999c-b635fbb6d487",
   "metadata": {},
   "outputs": [],
   "source": [
    "X_df = titanic_df.drop(columns=['Survived'])\n",
    "y_df = titanic_df['Survived'] #정답"
   ]
  },
  {
   "cell_type": "code",
   "execution_count": 6,
   "id": "3d7c9a06-eae3-4a76-9ebf-926736ee2b2f",
   "metadata": {},
   "outputs": [],
   "source": [
    "X_train, X_test, y_train, y_test = train_test_split(X_df, y_df, test_size=0.2, random_state=11)"
   ]
  },
  {
   "cell_type": "code",
   "execution_count": 7,
   "id": "8a2f4829-b328-456a-9b86-814bbdb08a51",
   "metadata": {},
   "outputs": [],
   "source": [
    "from sklearn.tree import DecisionTreeClassifier\n",
    "from sklearn.ensemble import RandomForestClassifier\n",
    "from sklearn.linear_model import LogisticRegression\n",
    "from sklearn.metrics import accuracy_score"
   ]
  },
  {
   "cell_type": "code",
   "execution_count": 11,
   "id": "3ec965f4-b98d-4571-88f8-99547b2f7c94",
   "metadata": {},
   "outputs": [],
   "source": [
    "dt_clf = DecisionTreeClassifier(random_state=11)\n",
    "rf_clf = RandomForestClassifier(random_state=11) #estimator 100개라 위에 보다 정확성 높음\n",
    "lr_clf = LogisticRegression(solver='liblinear')"
   ]
  },
  {
   "cell_type": "code",
   "execution_count": 18,
   "id": "ec783f39-2e3c-45cf-8b3e-b11c814f0cb5",
   "metadata": {},
   "outputs": [
    {
     "name": "stdout",
     "output_type": "stream",
     "text": [
      "DecisionTreeClassifier 정확도:0.7877\n"
     ]
    }
   ],
   "source": [
    "dt_clf.fit(X_train, y_train)\n",
    "dt_pred = dt_clf.predict(X_test)\n",
    "print(f'DecisionTreeClassifier 정확도:{accuracy_score(y_test, dt_pred):.4f}')"
   ]
  },
  {
   "cell_type": "code",
   "execution_count": 19,
   "id": "cbbbafb2-882f-4b7a-bd53-211edbe9a9d6",
   "metadata": {},
   "outputs": [
    {
     "name": "stdout",
     "output_type": "stream",
     "text": [
      "DecisionTreeClassifier 정확도:0.8547\n"
     ]
    }
   ],
   "source": [
    "rf_clf.fit(X_train,y_train)\n",
    "rf_pred = rf_clf.predict(X_test)\n",
    "print(f'DecisionTreeClassifier 정확도:{accuracy_score(y_test, rf_pred):.4f}')"
   ]
  },
  {
   "cell_type": "code",
   "execution_count": 20,
   "id": "7123651c-0673-4738-b6a2-6d91f834a81e",
   "metadata": {},
   "outputs": [
    {
     "name": "stdout",
     "output_type": "stream",
     "text": [
      "DecisionTreeClassifier 정확도:0.8659\n"
     ]
    }
   ],
   "source": [
    "lr_clf.fit(X_train,y_train)\n",
    "lr_pred = lr_clf.predict(X_test)\n",
    "print(f'DecisionTreeClassifier 정확도:{accuracy_score(y_test, lr_pred):.4f}')"
   ]
  },
  {
   "cell_type": "code",
   "execution_count": 21,
   "id": "e2356d69-86e5-4a26-b51d-05ea35dd4bfa",
   "metadata": {},
   "outputs": [],
   "source": [
    "#교차검증 street~ Kfold gridsearch~\n",
    "from sklearn.model_selection import KFold"
   ]
  },
  {
   "cell_type": "code",
   "execution_count": 44,
   "id": "6c4c774f-a528-4989-875f-1f03b2121347",
   "metadata": {},
   "outputs": [],
   "source": [
    "def exec_kfold(clf, fold=5):\n",
    "    import numpy as np\n",
    "    kfold = KFold(n_splits=fold)\n",
    "    scores = []\n",
    "    for iter_count, (train_index, test_index) in enumerate(kfold.split(X_df)):\n",
    "        #enumerate > for문이 가능 \n",
    "        X_train, X_test = X_df.values[train_index], X_df.values[test_index]\n",
    "        y_train, y_test = y_df.values[train_index], y_df.values[test_index]\n",
    "        clf.fit(X_train,y_train)\n",
    "        pred = clf.predict(X_test)\n",
    "        accuracy = accuracy_score(y_test,pred)\n",
    "        scores.append(accuracy)\n",
    "        print(f'교차검증 {iter_count} 정확도 : {accuracy}')\n",
    "    print(f'평균정확도:{np.mean(scores)}')"
   ]
  },
  {
   "cell_type": "code",
   "execution_count": 45,
   "id": "4cdd7dd1-7983-4677-b7a7-81a3d35f3f4e",
   "metadata": {},
   "outputs": [
    {
     "name": "stdout",
     "output_type": "stream",
     "text": [
      "교차검증 0 정확도 : 0.7541899441340782\n",
      "교차검증 1 정확도 : 0.7808988764044944\n",
      "교차검증 2 정확도 : 0.7865168539325843\n",
      "교차검증 3 정확도 : 0.7696629213483146\n",
      "교차검증 4 정확도 : 0.8202247191011236\n",
      "평균정확도:0.782298662984119\n"
     ]
    }
   ],
   "source": [
    "exec_kfold(dt_clf) #DecisionTreeClassifier 정확도:0.7877"
   ]
  },
  {
   "cell_type": "code",
   "execution_count": 46,
   "id": "b722d828-f76e-4d69-b1f3-5469a35047e4",
   "metadata": {},
   "outputs": [
    {
     "name": "stdout",
     "output_type": "stream",
     "text": [
      "교차검증 0 정확도 : 0.7932960893854749\n",
      "교차검증 1 정확도 : 0.8089887640449438\n",
      "교차검증 2 정확도 : 0.8370786516853933\n",
      "교차검증 3 정확도 : 0.7752808988764045\n",
      "교차검증 4 정확도 : 0.8595505617977528\n",
      "평균정확도:0.8148389931579938\n"
     ]
    }
   ],
   "source": [
    "exec_kfold(rf_clf) #DecisionTreeClassifier 정확도:0.8547"
   ]
  },
  {
   "cell_type": "code",
   "execution_count": 47,
   "id": "67409815-1d8a-4fbb-9f1e-5aa33b4f4d54",
   "metadata": {},
   "outputs": [
    {
     "name": "stdout",
     "output_type": "stream",
     "text": [
      "교차검증 0 정확도 : 0.7932960893854749\n",
      "교차검증 1 정확도 : 0.7921348314606742\n",
      "교차검증 2 정확도 : 0.7752808988764045\n",
      "교차검증 3 정확도 : 0.7471910112359551\n",
      "교차검증 4 정확도 : 0.8426966292134831\n",
      "평균정확도:0.7901198920343984\n"
     ]
    }
   ],
   "source": [
    "exec_kfold(lr_clf)#DecisionTreeClassifier 정확도:0.8659"
   ]
  },
  {
   "cell_type": "code",
   "execution_count": 51,
   "id": "e4ee93ab-65b4-4fb3-abb3-b6f95c9f0586",
   "metadata": {},
   "outputs": [],
   "source": [
    "from sklearn.model_selection import cross_val_score\n",
    "import numpy as np"
   ]
  },
  {
   "cell_type": "code",
   "execution_count": 52,
   "id": "5f428244-83b7-4ec4-ab22-e70b647bf6c8",
   "metadata": {},
   "outputs": [
    {
     "name": "stdout",
     "output_type": "stream",
     "text": [
      "[0.74301676 0.7752809  0.79213483 0.78651685 0.84269663] 평균:0.7879291946519366\n"
     ]
    }
   ],
   "source": [
    "score = cross_val_score(dt_clf, X_df, y_df, cv=5)\n",
    "print(f'{score} 평균:{np.mean(score)}')\n",
    "#교차검증 0 정확도 : 0.7541899441340782\n",
    "#교차검증 1 정확도 : 0.7808988764044944\n",
    "#교차검증 2 정확도 : 0.7865168539325843\n",
    "#교차검증 3 정확도 : 0.7696629213483146\n",
    "#교차검증 4 정확도 : 0.8202247191011236\n",
    "#평균정확도:0.782298662984119"
   ]
  },
  {
   "cell_type": "code",
   "execution_count": 53,
   "id": "83d17e0e-9881-47f7-96af-b205eb1c142a",
   "metadata": {},
   "outputs": [
    {
     "name": "stdout",
     "output_type": "stream",
     "text": [
      "[0.79329609 0.79775281 0.84831461 0.76404494 0.86516854] 평균:0.8137153976523758\n"
     ]
    }
   ],
   "source": [
    "score = cross_val_score(rf_clf, X_df, y_df, cv=5)\n",
    "print(f'{score} 평균:{np.mean(score)}')\n",
    "# 교차검증 0 정확도 : 0.7932960893854749\n",
    "# 교차검증 1 정확도 : 0.8089887640449438\n",
    "# 교차검증 2 정확도 : 0.8370786516853933\n",
    "# 교차검증 3 정확도 : 0.7752808988764045\n",
    "# 교차검증 4 정확도 : 0.8595505617977528\n",
    "# 평균정확도:0.8148389931579938"
   ]
  },
  {
   "cell_type": "code",
   "execution_count": 54,
   "id": "a06ec240-f625-4eb5-b265-46a5a265bbad",
   "metadata": {},
   "outputs": [
    {
     "name": "stdout",
     "output_type": "stream",
     "text": [
      "[0.7877095  0.79213483 0.7752809  0.76404494 0.82022472] 평균:0.7878789780930262\n"
     ]
    }
   ],
   "source": [
    "score = cross_val_score(lr_clf, X_df, y_df, cv=5)\n",
    "print(f'{score} 평균:{np.mean(score)}')\n",
    "# 교차검증 0 정확도 : 0.7932960893854749\n",
    "# 교차검증 1 정확도 : 0.7921348314606742\n",
    "# 교차검증 2 정확도 : 0.7752808988764045\n",
    "# 교차검증 3 정확도 : 0.7471910112359551\n",
    "# 교차검증 4 정확도 : 0.8426966292134831\n",
    "# 평균정확도:0.7901198920343984"
   ]
  },
  {
   "cell_type": "code",
   "execution_count": 55,
   "id": "6313c847-538b-4708-b467-7ac8b8ec2345",
   "metadata": {},
   "outputs": [],
   "source": [
    "from sklearn.model_selection import GridSearchCV"
   ]
  },
  {
   "cell_type": "code",
   "execution_count": 56,
   "id": "1cdbb2c8-aca5-4cc2-9202-8b58c2618364",
   "metadata": {},
   "outputs": [],
   "source": [
    "# 파라미터 값이 달라서 위에꺼 두개만 적용\n",
    "parameter = {\n",
    "    'max_depth' : [2,3,5,10],\n",
    "    'min_samples_split' : [2,3,5],\n",
    "    'min_samples_leaf' : [1,5,8]\n",
    "}"
   ]
  },
  {
   "cell_type": "code",
   "execution_count": 57,
   "id": "4524bc52-020c-4f67-931b-c242ccc86793",
   "metadata": {},
   "outputs": [
    {
     "data": {
      "text/plain": [
       "GridSearchCV(estimator=DecisionTreeClassifier(random_state=11),\n",
       "             param_grid={'max_depth': [2, 3, 5, 10],\n",
       "                         'min_samples_leaf': [1, 5, 8],\n",
       "                         'min_samples_split': [2, 3, 5]},\n",
       "             scoring='accuracy')"
      ]
     },
     "execution_count": 57,
     "metadata": {},
     "output_type": "execute_result"
    }
   ],
   "source": [
    "grid_clf = GridSearchCV(dt_clf, param_grid=parameter, scoring='accuracy')\n",
    "#그리드서치씨븨 객체 만들기 n_jobs > 얼마나 사용할건지, refit=제일 좋았던거 한번더, cv=None, verbose=0 >>>> 찾아서 주석달기\n",
    "grid_clf.fit(X_train, y_train)"
   ]
  },
  {
   "cell_type": "code",
   "execution_count": 58,
   "id": "b39cc4ba-3f36-4502-b3ce-e035dd317ccd",
   "metadata": {},
   "outputs": [
    {
     "data": {
      "text/plain": [
       "{'max_depth': 3, 'min_samples_leaf': 5, 'min_samples_split': 2}"
      ]
     },
     "execution_count": 58,
     "metadata": {},
     "output_type": "execute_result"
    }
   ],
   "source": [
    "grid_clf.best_params_ # 이때 제일 좋았다 ~"
   ]
  },
  {
   "cell_type": "code",
   "execution_count": 59,
   "id": "87ede03a-73be-4665-a3ca-3938d4c99890",
   "metadata": {},
   "outputs": [
    {
     "data": {
      "text/plain": [
       "0.7991825076332119"
      ]
     },
     "execution_count": 59,
     "metadata": {},
     "output_type": "execute_result"
    }
   ],
   "source": [
    "grid_clf.best_score_ #위에 껄로 했을 때 점수"
   ]
  },
  {
   "cell_type": "code",
   "execution_count": 60,
   "id": "cce3c60a-7592-460a-b056-2635952d0f98",
   "metadata": {},
   "outputs": [],
   "source": [
    "pred = grid_clf.best_estimator_.predict(X_test)"
   ]
  },
  {
   "cell_type": "code",
   "execution_count": 61,
   "id": "7df68ca6-9466-4676-81df-417207026038",
   "metadata": {},
   "outputs": [
    {
     "data": {
      "text/plain": [
       "0.8715083798882681"
      ]
     },
     "execution_count": 61,
     "metadata": {},
     "output_type": "execute_result"
    }
   ],
   "source": [
    "accuracy_score(y_test, pred)"
   ]
  },
  {
   "cell_type": "code",
   "execution_count": 62,
   "id": "98f88877-951c-45fb-85ff-609367746f42",
   "metadata": {},
   "outputs": [
    {
     "data": {
      "text/plain": [
       "GridSearchCV(estimator=RandomForestClassifier(random_state=11),\n",
       "             param_grid={'max_depth': [2, 3, 5, 10],\n",
       "                         'min_samples_leaf': [1, 5, 8],\n",
       "                         'min_samples_split': [2, 3, 5]},\n",
       "             scoring='accuracy')"
      ]
     },
     "execution_count": 62,
     "metadata": {},
     "output_type": "execute_result"
    }
   ],
   "source": [
    "grid_clf = GridSearchCV(rf_clf, param_grid=parameter, scoring='accuracy')\n",
    "grid_clf.fit(X_train, y_train)"
   ]
  },
  {
   "cell_type": "code",
   "execution_count": 63,
   "id": "7a61433a-e0fd-4ad4-a87e-aac6d103a865",
   "metadata": {},
   "outputs": [
    {
     "data": {
      "text/plain": [
       "{'max_depth': 5, 'min_samples_leaf': 1, 'min_samples_split': 2}"
      ]
     },
     "execution_count": 63,
     "metadata": {},
     "output_type": "execute_result"
    }
   ],
   "source": [
    "grid_clf.best_params_ "
   ]
  },
  {
   "cell_type": "code",
   "execution_count": 64,
   "id": "b6a4a45b-fb07-4d52-b3fc-4cc3080afbe9",
   "metadata": {},
   "outputs": [
    {
     "data": {
      "text/plain": [
       "0.8145966709346991"
      ]
     },
     "execution_count": 64,
     "metadata": {},
     "output_type": "execute_result"
    }
   ],
   "source": [
    "grid_clf.best_score_ "
   ]
  },
  {
   "cell_type": "code",
   "execution_count": 67,
   "id": "eff78754-43a7-4ac9-80cf-cf290e9fa757",
   "metadata": {},
   "outputs": [
    {
     "data": {
      "text/plain": [
       "0.88268156424581"
      ]
     },
     "execution_count": 67,
     "metadata": {},
     "output_type": "execute_result"
    }
   ],
   "source": [
    "pred = grid_clf.best_estimator_.predict(X_test)\n",
    "accuracy_score(y_test,pred)"
   ]
  },
  {
   "cell_type": "code",
   "execution_count": null,
   "id": "5867385a-6e7b-4ae7-bf2e-825b049c31ce",
   "metadata": {},
   "outputs": [],
   "source": [
    "#이진분류에서 균형잡히면 정확도 보면되는데 불균형이면 정확도 이외에도 지표가 필요"
   ]
  }
 ],
 "metadata": {
  "kernelspec": {
   "display_name": "Python 3 (ipykernel)",
   "language": "python",
   "name": "python3"
  },
  "language_info": {
   "codemirror_mode": {
    "name": "ipython",
    "version": 3
   },
   "file_extension": ".py",
   "mimetype": "text/x-python",
   "name": "python",
   "nbconvert_exporter": "python",
   "pygments_lexer": "ipython3",
   "version": "3.9.12"
  }
 },
 "nbformat": 4,
 "nbformat_minor": 5
}
