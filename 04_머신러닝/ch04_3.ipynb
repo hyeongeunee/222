{
 "cells": [
  {
   "cell_type": "code",
   "execution_count": null,
   "id": "095d1692-69dd-4cb8-82dc-fedb18e0f513",
   "metadata": {},
   "outputs": [],
   "source": [
    "#랜덤포레스트"
   ]
  },
  {
   "cell_type": "code",
   "execution_count": 4,
   "id": "74b06fc8-fddb-4a1b-9f2b-3b67d3955c56",
   "metadata": {
    "tags": []
   },
   "outputs": [],
   "source": [
    "def get_new_feature_name_df(old):\n",
    "    import pandas as pd\n",
    "    dup = pd.DataFrame(data=old.groupby('column_name').cumcount(), columns=['dup_cnt'])\n",
    "    dup = dup.reset_index()\n",
    "    # print(dup.head())\n",
    "    # print(old.reset_index().head())\n",
    "    new = pd.merge(old.reset_index(), dup, how='outer')\n",
    "    new['column_name'] = new[['column_name', 'dup_cnt']].apply(lambda x:x[0]+'_'+str(x[1]) if x[1]>0 else x[0], axis=1)\n",
    "    new.drop(columns=['index'], inplace=True)\n",
    "    return new"
   ]
  },
  {
   "cell_type": "code",
   "execution_count": 5,
   "id": "4d5d89eb-df83-4706-80d7-bb0964c226f3",
   "metadata": {
    "tags": []
   },
   "outputs": [],
   "source": [
    "def get_human_dataset():\n",
    "    import pandas as pd\n",
    "    feature_name_df = pd.read_csv('./human_activity/features.txt', sep = '\\s+',\n",
    "                                header=None, names=['column_index', 'column_name'])\n",
    "    new_name = get_new_feature_name_df(feature_name_df)\n",
    "    feature_name = new_name.iloc[:,1].values.tolist()\n",
    "    X_train = pd.read_csv('./human_activity/train/X_train.txt', sep = '\\s+', names =feature_name)\n",
    "    X_test = pd.read_csv('./human_activity/test/X_test.txt', sep = '\\s+', names =feature_name)\n",
    "    y_train = pd.read_csv('./human_activity/train/y_train.txt', sep = '\\s+', names =['action'])\n",
    "    y_test = pd.read_csv('./human_activity/test/y_test.txt', sep = '\\s+', names =['action'])\n",
    "    return X_train, X_test, y_train, y_test"
   ]
  },
  {
   "cell_type": "code",
   "execution_count": 6,
   "id": "3b3185d6-8275-4544-8e3b-c3fb4be5dad2",
   "metadata": {
    "tags": []
   },
   "outputs": [],
   "source": [
    "X_train, X_test, y_train, y_test = get_human_dataset()"
   ]
  },
  {
   "cell_type": "code",
   "execution_count": 13,
   "id": "0137d9a3-a7d6-4341-ad7b-c929e9a8967d",
   "metadata": {
    "tags": []
   },
   "outputs": [],
   "source": [
    "from sklearn.ensemble import RandomForestClassifier\n",
    "from sklearn.metrics import accuracy_score\n",
    "import warnings\n",
    "warnings.filterwarnings ('ignore')"
   ]
  },
  {
   "cell_type": "code",
   "execution_count": 15,
   "id": "a9fa527f-4d68-4490-900b-8ea473c6febd",
   "metadata": {
    "tags": []
   },
   "outputs": [
    {
     "data": {
      "text/plain": [
       "0.9195792331184255"
      ]
     },
     "execution_count": 15,
     "metadata": {},
     "output_type": "execute_result"
    }
   ],
   "source": [
    "rf_clf = RandomForestClassifier(random_state=0, max_depth=8)\n",
    "rf_clf.fit(X_train, y_train)\n",
    "pred = rf_clf.predict(X_test)\n",
    "accuracy_score(y_test, pred)"
   ]
  },
  {
   "cell_type": "code",
   "execution_count": 10,
   "id": "269cc008-5971-4d18-87c7-d429105f6937",
   "metadata": {
    "tags": []
   },
   "outputs": [],
   "source": [
    "from sklearn.model_selection import GridSearchCV"
   ]
  },
  {
   "cell_type": "code",
   "execution_count": 14,
   "id": "8cd99cad-ddde-4070-ba0f-ee03ae8dcdd7",
   "metadata": {
    "tags": []
   },
   "outputs": [
    {
     "name": "stdout",
     "output_type": "stream",
     "text": [
      "{'max_depth': 16, 'min_samples_leaf': 8, 'min_samples_split': 6}\n",
      "0.9178454842219804\n",
      "CPU times: total: 12 s\n",
      "Wall time: 13.5 s\n"
     ]
    }
   ],
   "source": [
    "%%time\n",
    "param = {\n",
    "    'max_depth':[8, 16, 24],\n",
    "    'min_samples_split': [1, 6, 12],\n",
    "    'min_samples_leaf': [2, 8, 16]\n",
    "}\n",
    "rf_clf = RandomForestClassifier(n_estimators=100, random_state=0, n_jobs=-1)\n",
    "grid_cv = GridSearchCV(rf_clf, param_grid=param, cv=2, n_jobs=-1)\n",
    "grid_cv.fit(X_train, y_train)\n",
    "print(grid_cv.best_params_)\n",
    "print(grid_cv.best_score_)"
   ]
  },
  {
   "cell_type": "code",
   "execution_count": 18,
   "id": "a6e8ebb5-e023-4770-b406-440766eb3b9f",
   "metadata": {
    "tags": []
   },
   "outputs": [
    {
     "data": {
      "text/plain": [
       "0.9222938581608415"
      ]
     },
     "execution_count": 18,
     "metadata": {},
     "output_type": "execute_result"
    }
   ],
   "source": [
    "pred = grid_cv.best_estimator_.predict(X_test)\n",
    "accuracy_score(y_test, pred)"
   ]
  },
  {
   "cell_type": "code",
   "execution_count": 22,
   "id": "9f5865fb-755b-45fc-b9b5-f8e6784056ab",
   "metadata": {
    "tags": []
   },
   "outputs": [
    {
     "data": {
      "text/plain": [
       "0.9192399049881235"
      ]
     },
     "execution_count": 22,
     "metadata": {},
     "output_type": "execute_result"
    }
   ],
   "source": [
    "rf_clf = RandomForestClassifier(n_estimators=500, \n",
    "                                n_jobs =-1,\n",
    "                                max_depth=16, \n",
    "                                min_samples_leaf = 8,\n",
    "                                min_samples_split=6, \n",
    "                                random_state=0)\n",
    "rf_clf.fit(X_train, y_train)\n",
    "pred = rf_clf.predict(X_test)\n",
    "accuracy_score(y_test, pred)"
   ]
  },
  {
   "cell_type": "code",
   "execution_count": 23,
   "id": "ba63d1eb-ade4-4a31-9342-5c437c6f7a57",
   "metadata": {
    "tags": []
   },
   "outputs": [],
   "source": [
    "#GBM\n",
    "from sklearn.ensemble import GradientBoostingClassifier"
   ]
  },
  {
   "cell_type": "code",
   "execution_count": 26,
   "id": "e305c58a-8f6e-4ac1-bf31-6dee35cd1e19",
   "metadata": {},
   "outputs": [
    {
     "name": "stdout",
     "output_type": "stream",
     "text": [
      "CPU times: total: 11min 1s\n",
      "Wall time: 11min 1s\n"
     ]
    },
    {
     "data": {
      "text/plain": [
       "0.9389209365456397"
      ]
     },
     "execution_count": 26,
     "metadata": {},
     "output_type": "execute_result"
    }
   ],
   "source": [
    "%%time\n",
    "#X_train, X_test, y_train, y_test = get_human_dataset()\n",
    "gb_clf = GradientBoostingClassifier(random_state=0)\n",
    "gb_clf.fit(X_train, y_train)\n",
    "pred = gb_clf.predict(X_test)\n",
    "accuracy_score(y_test, pred)"
   ]
  },
  {
   "cell_type": "code",
   "execution_count": null,
   "id": "3b53b125-2f08-4eaa-9c7f-b04d7316a732",
   "metadata": {},
   "outputs": [],
   "source": [
    "#XGBoost > 매우 뛰어난 부스팅 알고리즘 ,, 시간 많이 걸림ㅠ "
   ]
  },
  {
   "cell_type": "code",
   "execution_count": null,
   "id": "761f1cbd-5501-430f-99f5-07436dd0cb92",
   "metadata": {},
   "outputs": [],
   "source": [
    "#LightGBM > XG보다 빠르고 메모리 사용량도 적음"
   ]
  }
 ],
 "metadata": {
  "kernelspec": {
   "display_name": "Python 3 (ipykernel)",
   "language": "python",
   "name": "python3"
  },
  "language_info": {
   "codemirror_mode": {
    "name": "ipython",
    "version": 3
   },
   "file_extension": ".py",
   "mimetype": "text/x-python",
   "name": "python",
   "nbconvert_exporter": "python",
   "pygments_lexer": "ipython3",
   "version": "3.9.12"
  }
 },
 "nbformat": 4,
 "nbformat_minor": 5
}
